{
 "cells": [
  {
   "cell_type": "code",
   "execution_count": 16,
   "id": "405f0e7a",
   "metadata": {},
   "outputs": [],
   "source": [
    "import numpy as np\n",
    "from tensorflow.keras.preprocessing.text import Tokenizer\n",
    "from tensorflow.keras.preprocessing.sequence import pad_sequences\n",
    "from tensorflow.keras.models import load_model"
   ]
  },
  {
   "cell_type": "code",
   "execution_count": null,
   "id": "85a29a03",
   "metadata": {},
   "outputs": [],
   "source": [
    "# --- Step 1: Prepare the Text Data ---\n",
    "# Read Shakespeare's Hamlet text file\n",
    "\n",
    "text_file_path = 'shakespeare-hamlet.txt'\n",
    "with open(text_file_path, 'r', encoding='utf-8') as file:\n",
    "    raw_text = file.read()"
   ]
  },
  {
   "cell_type": "code",
   "execution_count": 18,
   "id": "3839014e",
   "metadata": {},
   "outputs": [],
   "source": [
    "# Convert text to lowercase for consistency\n",
    "\n",
    "cleaned_text = raw_text.lower()"
   ]
  },
  {
   "cell_type": "code",
   "execution_count": 19,
   "id": "27c766f7",
   "metadata": {},
   "outputs": [],
   "source": [
    "# --- Step 2: Create and Configure Tokenizer ---\n",
    "# Initialize tokenizer\n",
    "\n",
    "text_tokenizer = Tokenizer()"
   ]
  },
  {
   "cell_type": "code",
   "execution_count": 20,
   "id": "1b8a12a0",
   "metadata": {},
   "outputs": [],
   "source": [
    "# Train tokenizer on cleaned text\n",
    "\n",
    "text_tokenizer.fit_on_texts([cleaned_text])"
   ]
  },
  {
   "cell_type": "code",
   "execution_count": 6,
   "id": "b49490f7",
   "metadata": {},
   "outputs": [],
   "source": [
    "# Calculate total words in vocabulary\n",
    "total_words = len(text_tokenizer.word_index) + 1  # +1 for padding index"
   ]
  },
  {
   "cell_type": "code",
   "execution_count": null,
   "id": "3754aac7",
   "metadata": {},
   "outputs": [],
   "source": [
    "# --- Step 3: Load Pre-trained Model ---\n",
    "\n",
    "model = load_model('./Bidirectional_LSTM.keras')"
   ]
  },
  {
   "cell_type": "code",
   "execution_count": 22,
   "id": "2f5e8d52",
   "metadata": {},
   "outputs": [],
   "source": [
    "# Create reverse lookup dictionary (index -> word)\n",
    "\n",
    "reverse_word_mapping = {}\n",
    "for word, index in text_tokenizer.word_index.items():\n",
    "    reverse_word_mapping[index] = word"
   ]
  },
  {
   "cell_type": "code",
   "execution_count": 24,
   "id": "ce1dd62e",
   "metadata": {},
   "outputs": [],
   "source": [
    "# Determine required input length from model\n",
    "\n",
    "sequence_length = model.input_shape[1] # Model's expected input size"
   ]
  },
  {
   "cell_type": "code",
   "execution_count": 13,
   "id": "cb8ed27f",
   "metadata": {},
   "outputs": [],
   "source": [
    "# --- Step 5: Set Prediction Parameters ---\n",
    "starting_text = \"i am a an\"  # Initial seed text\n",
    "words_to_predict = 1       # Number of words to generate"
   ]
  },
  {
   "cell_type": "code",
   "execution_count": 25,
   "id": "20f04e27",
   "metadata": {},
   "outputs": [],
   "source": [
    "# --- Step 6: Generate Words Step-by-Step ---\n",
    "\n",
    "current_text = starting_text"
   ]
  },
  {
   "cell_type": "code",
   "execution_count": 15,
   "id": "64acab66",
   "metadata": {},
   "outputs": [
    {
     "name": "stdout",
     "output_type": "stream",
     "text": [
      "Starting text: i am a an\n",
      "Predicted text: i am a an an\n",
      "\n",
      "Explanation:\n",
      "1. Loaded and preprocessed Shakespeare's Hamlet text\n",
      "2. Created tokenizer with vocabulary of 4818 words\n",
      "3. Model expects input sequences of 13 tokens\n"
     ]
    }
   ],
   "source": [
    "for prediction_step in range(words_to_predict):\n",
    "    \n",
    "    # Convert current text to numerical tokens\n",
    "    token_sequence = text_tokenizer.texts_to_sequences([current_text])[0]\n",
    "    \n",
    "    # Handle sequence length requirements\n",
    "    if len(token_sequence) < sequence_length:\n",
    "        # Pad short sequences with zeros at the end\n",
    "        padded_sequence = pad_sequences(\n",
    "            [token_sequence], \n",
    "            maxlen=sequence_length,\n",
    "            padding='post'\n",
    "        )[0]\n",
    "    else:\n",
    "        # Trim long sequences to required length\n",
    "        padded_sequence = token_sequence[-sequence_length:]\n",
    "    \n",
    "    # Reshape for model input (batch size = 1)\n",
    "    model_input = padded_sequence.reshape(1, sequence_length)\n",
    "    \n",
    "    # Get prediction probabilities from model\n",
    "    word_probabilities = model.predict(model_input, verbose=0)\n",
    "    \n",
    "    # Extract probabilities for next word position\n",
    "    next_word_probs = word_probabilities[0][-1]  # Last position in output\n",
    "    \n",
    "    # Prevent selection of padding token (index 0)\n",
    "    next_word_probs[0] = 0\n",
    "    \n",
    "    # Find highest probability word index\n",
    "    predicted_index = np.argmax(next_word_probs)\n",
    "    \n",
    "    # Convert index to actual word\n",
    "    new_word = reverse_word_mapping.get(predicted_index, \"\")\n",
    "    \n",
    "    # Update text with new word\n",
    "    current_text += \" \" + new_word\n",
    "\n",
    "# --- Step 7: Display Results ---\n",
    "print(\"Starting text:\", starting_text)\n",
    "print(\"Predicted text:\", current_text)\n",
    "print(\"\\nExplanation:\")\n",
    "print(\"1. Loaded and preprocessed Shakespeare's Hamlet text\")\n",
    "print(\"2. Created tokenizer with vocabulary of\", total_words, \"words\")\n",
    "print(\"3. Model expects input sequences of\", sequence_length, \"tokens\")"
   ]
  },
  {
   "cell_type": "code",
   "execution_count": null,
   "id": "32bc2514",
   "metadata": {},
   "outputs": [],
   "source": []
  }
 ],
 "metadata": {
  "kernelspec": {
   "display_name": "myenv",
   "language": "python",
   "name": "python3"
  },
  "language_info": {
   "codemirror_mode": {
    "name": "ipython",
    "version": 3
   },
   "file_extension": ".py",
   "mimetype": "text/x-python",
   "name": "python",
   "nbconvert_exporter": "python",
   "pygments_lexer": "ipython3",
   "version": "3.11.0"
  }
 },
 "nbformat": 4,
 "nbformat_minor": 5
}
